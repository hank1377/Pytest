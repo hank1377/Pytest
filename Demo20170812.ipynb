{
 "cells": [
  {
   "cell_type": "markdown",
   "metadata": {},
   "source": [
    "## Python Basic"
   ]
  },
  {
   "cell_type": "code",
   "execution_count": 9,
   "metadata": {},
   "outputs": [
    {
     "name": "stdout",
     "output_type": "stream",
     "text": [
      "5000\n"
     ]
    },
    {
     "data": {
      "text/plain": [
       "50.0"
      ]
     },
     "execution_count": 9,
     "metadata": {},
     "output_type": "execute_result"
    }
   ],
   "source": [
    "a = 500\n",
    "exchang = 10\n",
    "print (a*exchang)\n",
    "a/exchang"
   ]
  },
  {
   "cell_type": "code",
   "execution_count": 19,
   "metadata": {},
   "outputs": [
    {
     "data": {
      "text/plain": [
       "0.0"
      ]
     },
     "execution_count": 19,
     "metadata": {},
     "output_type": "execute_result"
    }
   ],
   "source": [
    "a = '0.0'\n",
    "b=2\n",
    "float(a)"
   ]
  },
  {
   "cell_type": "code",
   "execution_count": 22,
   "metadata": {},
   "outputs": [
    {
     "data": {
      "text/plain": [
       "str"
      ]
     },
     "execution_count": 22,
     "metadata": {},
     "output_type": "execute_result"
    }
   ],
   "source": [
    "type(a)"
   ]
  },
  {
   "cell_type": "markdown",
   "metadata": {},
   "source": [
    "## String Processing"
   ]
  },
  {
   "cell_type": "code",
   "execution_count": 24,
   "metadata": {},
   "outputs": [
    {
     "data": {
      "text/plain": [
       "'this is a book'"
      ]
     },
     "execution_count": 24,
     "metadata": {},
     "output_type": "execute_result"
    }
   ],
   "source": [
    "a = 'this is a book'\n",
    "a"
   ]
  },
  {
   "cell_type": "code",
   "execution_count": 31,
   "metadata": {},
   "outputs": [
    {
     "name": "stdout",
     "output_type": "stream",
     "text": [
      "<method-wrapper '__str__' of str object at 0x000000000530EB28>\n"
     ]
    }
   ],
   "source": [
    "b = \"This is a pencil\"\n",
    "print (b.__str__)"
   ]
  },
  {
   "cell_type": "code",
   "execution_count": 40,
   "metadata": {},
   "outputs": [
    {
     "name": "stdout",
     "output_type": "stream",
     "text": [
      "HelloworldHi\n"
     ]
    }
   ],
   "source": [
    "print(\"Helloworld\",end='')\n",
    "print(\"Hi\")"
   ]
  },
  {
   "cell_type": "code",
   "execution_count": 42,
   "metadata": {},
   "outputs": [
    {
     "data": {
      "text/plain": [
       "'\\n2015年底出走安逸生活，流浪半年多，2016年意外踏入快閃記憶體產業，快閃人生就此展開...\\n\\n2014/8/18\\n【Python】print不換行作法\\n網路上網路上Google：python print no new line，可以得到很多的討論串，多數會將Case分成python3與先前版本兩種來解決這問題，先看看這兩種作法（最後探討各版本間相容的作法）：\\npython3的作法\\n1\\n2\\nprint(\\'Hello World\\', end=\\'\\')\\nprint(\\', Same Line\\')\\n早期版本的作法\\n1\\n2\\nprint(\\'Hello World\\'),\\nprint(\\', Same Line\\')\\n上面二分法的解決方法在能確保選定python版本後就不會作修改的情況下，一切都能運作正常不會發生\"意外\"。但實際上，在程式開發中很多臭蟲都是在這一念之間埋下惡果的！\\n\\n在知道有版本相容性問題時，最好方法還是得找個兩全其美的方案會好些，參考下面思緒決定第三種解決方案：\\n查閱手冊發現2.1版以後增加了Lib/__future__.py模組：在遇到換行的問題上可透過引入此模組的print_function讓2.1到2.X版都能使用python3的解法。\\n但如上述所說必須2.1以後版本才支援此模組，稍微查了一下python2.1大約是2001年finally release的，掐指一算離現在大概也13年了，再查看手邊系統環境python版本是2.7。\\n考量上述兩點，遇到2.1以前的版本機率應該遠小於之後更新python版本到3.X甚至更之後版本，因此採用第三種解決方法應該會是比較好的選擇。\\n1\\n2\\n3\\n4\\nfrom __future__ import print_function\\n\\nprint(\\'Hello World\\', end=\\'\\')\\nprint(\\', Same Line\\')\\n\\n'"
      ]
     },
     "execution_count": 42,
     "metadata": {},
     "output_type": "execute_result"
    }
   ],
   "source": [
    "article = '''\n",
    "2015年底出走安逸生活，流浪半年多，2016年意外踏入快閃記憶體產業，快閃人生就此展開...\n",
    "\n",
    "2014/8/18\n",
    "【Python】print不換行作法\n",
    "網路上網路上Google：python print no new line，可以得到很多的討論串，多數會將Case分成python3與先前版本兩種來解決這問題，先看看這兩種作法（最後探討各版本間相容的作法）：\n",
    "python3的作法\n",
    "1\n",
    "2\n",
    "print('Hello World', end='')\n",
    "print(', Same Line')\n",
    "早期版本的作法\n",
    "1\n",
    "2\n",
    "print('Hello World'),\n",
    "print(', Same Line')\n",
    "上面二分法的解決方法在能確保選定python版本後就不會作修改的情況下，一切都能運作正常不會發生\"意外\"。但實際上，在程式開發中很多臭蟲都是在這一念之間埋下惡果的！\n",
    "\n",
    "在知道有版本相容性問題時，最好方法還是得找個兩全其美的方案會好些，參考下面思緒決定第三種解決方案：\n",
    "查閱手冊發現2.1版以後增加了Lib/__future__.py模組：在遇到換行的問題上可透過引入此模組的print_function讓2.1到2.X版都能使用python3的解法。\n",
    "但如上述所說必須2.1以後版本才支援此模組，稍微查了一下python2.1大約是2001年finally release的，掐指一算離現在大概也13年了，再查看手邊系統環境python版本是2.7。\n",
    "考量上述兩點，遇到2.1以前的版本機率應該遠小於之後更新python版本到3.X甚至更之後版本，因此採用第三種解決方法應該會是比較好的選擇。\n",
    "1\n",
    "2\n",
    "3\n",
    "4\n",
    "from __future__ import print_function\n",
    "\n",
    "print('Hello World', end='')\n",
    "print(', Same Line')\n",
    "\n",
    "'''\n",
    "\n",
    "article"
   ]
  },
  {
   "cell_type": "code",
   "execution_count": 45,
   "metadata": {},
   "outputs": [
    {
     "data": {
      "text/plain": [
       "799"
      ]
     },
     "execution_count": 45,
     "metadata": {},
     "output_type": "execute_result"
    }
   ],
   "source": [
    "len(article)"
   ]
  },
  {
   "cell_type": "code",
   "execution_count": 52,
   "metadata": {},
   "outputs": [
    {
     "data": {
      "text/plain": [
       "range(0, 799)"
      ]
     },
     "execution_count": 52,
     "metadata": {},
     "output_type": "execute_result"
    }
   ],
   "source": [
    "range(len(article))"
   ]
  },
  {
   "cell_type": "code",
   "execution_count": 53,
   "metadata": {},
   "outputs": [
    {
     "data": {
      "text/plain": [
       "True"
      ]
     },
     "execution_count": 53,
     "metadata": {},
     "output_type": "execute_result"
    }
   ],
   "source": [
    "s = '上海自來水來自海上'\n",
    "s[::] == s[::-1]"
   ]
  },
  {
   "cell_type": "code",
   "execution_count": null,
   "metadata": {
    "collapsed": true
   },
   "outputs": [],
   "source": []
  }
 ],
 "metadata": {
  "kernelspec": {
   "display_name": "Python 3",
   "language": "python",
   "name": "python3"
  },
  "language_info": {
   "codemirror_mode": {
    "name": "ipython",
    "version": 3
   },
   "file_extension": ".py",
   "mimetype": "text/x-python",
   "name": "python",
   "nbconvert_exporter": "python",
   "pygments_lexer": "ipython3",
   "version": "3.6.1"
  }
 },
 "nbformat": 4,
 "nbformat_minor": 2
}
