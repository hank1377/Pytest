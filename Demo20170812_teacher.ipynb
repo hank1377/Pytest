{
 "cells": [
  {
   "cell_type": "markdown",
   "metadata": {},
   "source": [
    "## Python Basic"
   ]
  },
  {
   "cell_type": "code",
   "execution_count": 9,
   "metadata": {},
   "outputs": [
    {
     "name": "stdout",
     "output_type": "stream",
     "text": [
      "5000\n"
     ]
    },
    {
     "data": {
      "text/plain": [
       "50.0"
      ]
     },
     "execution_count": 9,
     "metadata": {},
     "output_type": "execute_result"
    }
   ],
   "source": [
    "a = 500\n",
    "exchang = 10\n",
    "print (a*exchang)\n",
    "a/exchang"
   ]
  },
  {
   "cell_type": "code",
   "execution_count": 19,
   "metadata": {},
   "outputs": [
    {
     "data": {
      "text/plain": [
       "0.0"
      ]
     },
     "execution_count": 19,
     "metadata": {},
     "output_type": "execute_result"
    }
   ],
   "source": [
    "a = '0.0'\n",
    "b=2\n",
    "float(a)"
   ]
  },
  {
   "cell_type": "code",
   "execution_count": 22,
   "metadata": {},
   "outputs": [
    {
     "data": {
      "text/plain": [
       "str"
      ]
     },
     "execution_count": 22,
     "metadata": {},
     "output_type": "execute_result"
    }
   ],
   "source": [
    "type(a)"
   ]
  },
  {
   "cell_type": "markdown",
   "metadata": {},
   "source": [
    "## String Processing"
   ]
  },
  {
   "cell_type": "code",
   "execution_count": 24,
   "metadata": {},
   "outputs": [
    {
     "data": {
      "text/plain": [
       "'this is a book'"
      ]
     },
     "execution_count": 24,
     "metadata": {},
     "output_type": "execute_result"
    }
   ],
   "source": [
    "a = 'this is a book'\n",
    "a"
   ]
  },
  {
   "cell_type": "code",
   "execution_count": 31,
   "metadata": {},
   "outputs": [
    {
     "name": "stdout",
     "output_type": "stream",
     "text": [
      "<method-wrapper '__str__' of str object at 0x000000000530EB28>\n"
     ]
    }
   ],
   "source": [
    "b = \"This is a pencil\"\n",
    "print (b.__str__)"
   ]
  },
  {
   "cell_type": "code",
   "execution_count": 40,
   "metadata": {},
   "outputs": [
    {
     "name": "stdout",
     "output_type": "stream",
     "text": [
      "HelloworldHi\n"
     ]
    }
   ],
   "source": [
    "print(\"Helloworld\",end='')\n",
    "print(\"Hi\")"
   ]
  },
  {
   "cell_type": "code",
   "execution_count": 42,
   "metadata": {},
   "outputs": [
    {
     "data": {
      "text/plain": [
       "'\\n2015年底出走安逸生活，流浪半年多，2016年意外踏入快閃記憶體產業，快閃人生就此展開...\\n\\n2014/8/18\\n【Python】print不換行作法\\n網路上網路上Google：python print no new line，可以得到很多的討論串，多數會將Case分成python3與先前版本兩種來解決這問題，先看看這兩種作法（最後探討各版本間相容的作法）：\\npython3的作法\\n1\\n2\\nprint(\\'Hello World\\', end=\\'\\')\\nprint(\\', Same Line\\')\\n早期版本的作法\\n1\\n2\\nprint(\\'Hello World\\'),\\nprint(\\', Same Line\\')\\n上面二分法的解決方法在能確保選定python版本後就不會作修改的情況下，一切都能運作正常不會發生\"意外\"。但實際上，在程式開發中很多臭蟲都是在這一念之間埋下惡果的！\\n\\n在知道有版本相容性問題時，最好方法還是得找個兩全其美的方案會好些，參考下面思緒決定第三種解決方案：\\n查閱手冊發現2.1版以後增加了Lib/__future__.py模組：在遇到換行的問題上可透過引入此模組的print_function讓2.1到2.X版都能使用python3的解法。\\n但如上述所說必須2.1以後版本才支援此模組，稍微查了一下python2.1大約是2001年finally release的，掐指一算離現在大概也13年了，再查看手邊系統環境python版本是2.7。\\n考量上述兩點，遇到2.1以前的版本機率應該遠小於之後更新python版本到3.X甚至更之後版本，因此採用第三種解決方法應該會是比較好的選擇。\\n1\\n2\\n3\\n4\\nfrom __future__ import print_function\\n\\nprint(\\'Hello World\\', end=\\'\\')\\nprint(\\', Same Line\\')\\n\\n'"
      ]
     },
     "execution_count": 42,
     "metadata": {},
     "output_type": "execute_result"
    }
   ],
   "source": [
    "article = '''\n",
    "2015年底出走安逸生活，流浪半年多，2016年意外踏入快閃記憶體產業，快閃人生就此展開...\n",
    "\n",
    "2014/8/18\n",
    "【Python】print不換行作法\n",
    "網路上網路上Google：python print no new line，可以得到很多的討論串，多數會將Case分成python3與先前版本兩種來解決這問題，先看看這兩種作法（最後探討各版本間相容的作法）：\n",
    "python3的作法\n",
    "1\n",
    "2\n",
    "print('Hello World', end='')\n",
    "print(', Same Line')\n",
    "早期版本的作法\n",
    "1\n",
    "2\n",
    "print('Hello World'),\n",
    "print(', Same Line')\n",
    "上面二分法的解決方法在能確保選定python版本後就不會作修改的情況下，一切都能運作正常不會發生\"意外\"。但實際上，在程式開發中很多臭蟲都是在這一念之間埋下惡果的！\n",
    "\n",
    "在知道有版本相容性問題時，最好方法還是得找個兩全其美的方案會好些，參考下面思緒決定第三種解決方案：\n",
    "查閱手冊發現2.1版以後增加了Lib/__future__.py模組：在遇到換行的問題上可透過引入此模組的print_function讓2.1到2.X版都能使用python3的解法。\n",
    "但如上述所說必須2.1以後版本才支援此模組，稍微查了一下python2.1大約是2001年finally release的，掐指一算離現在大概也13年了，再查看手邊系統環境python版本是2.7。\n",
    "考量上述兩點，遇到2.1以前的版本機率應該遠小於之後更新python版本到3.X甚至更之後版本，因此採用第三種解決方法應該會是比較好的選擇。\n",
    "1\n",
    "2\n",
    "3\n",
    "4\n",
    "from __future__ import print_function\n",
    "\n",
    "print('Hello World', end='')\n",
    "print(', Same Line')\n",
    "\n",
    "'''\n",
    "\n",
    "article"
   ]
  },
  {
   "cell_type": "code",
   "execution_count": 45,
   "metadata": {},
   "outputs": [
    {
     "data": {
      "text/plain": [
       "799"
      ]
     },
     "execution_count": 45,
     "metadata": {},
     "output_type": "execute_result"
    }
   ],
   "source": [
    "len(article)"
   ]
  },
  {
   "cell_type": "code",
   "execution_count": 52,
   "metadata": {},
   "outputs": [
    {
     "data": {
      "text/plain": [
       "range(0, 799)"
      ]
     },
     "execution_count": 52,
     "metadata": {},
     "output_type": "execute_result"
    }
   ],
   "source": [
    "range(len(article))"
   ]
  },
  {
   "cell_type": "code",
   "execution_count": 53,
   "metadata": {},
   "outputs": [
    {
     "data": {
      "text/plain": [
       "True"
      ]
     },
     "execution_count": 53,
     "metadata": {},
     "output_type": "execute_result"
    }
   ],
   "source": [
    "s = '上海自來水來自海上'\n",
    "s[::] == s[::-1]"
   ]
  },
  {
   "cell_type": "code",
   "execution_count": 55,
   "metadata": {},
   "outputs": [
    {
     "data": {
      "text/plain": [
       "'上海自來水來自海上'"
      ]
     },
     "execution_count": 55,
     "metadata": {},
     "output_type": "execute_result"
    }
   ],
   "source": [
    "s.title()"
   ]
  },
  {
   "cell_type": "code",
   "execution_count": 56,
   "metadata": {},
   "outputs": [
    {
     "name": "stdout",
     "output_type": "stream",
     "text": [
      "Help on built-in function title:\n",
      "\n",
      "title(...) method of builtins.str instance\n",
      "    S.title() -> str\n",
      "    \n",
      "    Return a titlecased version of S, i.e. words start with title case\n",
      "    characters, all remaining cased characters have lower case.\n",
      "\n"
     ]
    }
   ],
   "source": [
    "help(s.title)"
   ]
  },
  {
   "cell_type": "code",
   "execution_count": 57,
   "metadata": {},
   "outputs": [
    {
     "data": {
      "text/plain": [
       "1"
      ]
     },
     "execution_count": 57,
     "metadata": {},
     "output_type": "execute_result"
    }
   ],
   "source": [
    "s.count('上海')"
   ]
  },
  {
   "cell_type": "code",
   "execution_count": 58,
   "metadata": {},
   "outputs": [
    {
     "data": {
      "text/plain": [
       "'HI自來水來自海上'"
      ]
     },
     "execution_count": 58,
     "metadata": {},
     "output_type": "execute_result"
    }
   ],
   "source": [
    "s.replace('上海','HI')"
   ]
  },
  {
   "cell_type": "code",
   "execution_count": 59,
   "metadata": {},
   "outputs": [
    {
     "data": {
      "text/plain": [
       "9"
      ]
     },
     "execution_count": 59,
     "metadata": {},
     "output_type": "execute_result"
    }
   ],
   "source": [
    "len(s)"
   ]
  },
  {
   "cell_type": "markdown",
   "metadata": {},
   "source": [
    "## List processing"
   ]
  },
  {
   "cell_type": "code",
   "execution_count": 65,
   "metadata": {},
   "outputs": [
    {
     "data": {
      "text/plain": [
       "155"
      ]
     },
     "execution_count": 65,
     "metadata": {},
     "output_type": "execute_result"
    }
   ],
   "source": [
    "height = 170\n",
    "heights = [175,165,155]\n",
    "heights[2]"
   ]
  },
  {
   "cell_type": "code",
   "execution_count": 67,
   "metadata": {},
   "outputs": [
    {
     "data": {
      "text/plain": [
       "['h', 'e', 'i', 'g', 'h', 't']"
      ]
     },
     "execution_count": 67,
     "metadata": {},
     "output_type": "execute_result"
    }
   ],
   "source": [
    "list(\"height\")"
   ]
  },
  {
   "cell_type": "code",
   "execution_count": 68,
   "metadata": {},
   "outputs": [
    {
     "data": {
      "text/plain": [
       "495"
      ]
     },
     "execution_count": 68,
     "metadata": {},
     "output_type": "execute_result"
    }
   ],
   "source": [
    "sum(heights)"
   ]
  },
  {
   "cell_type": "code",
   "execution_count": 70,
   "metadata": {},
   "outputs": [
    {
     "data": {
      "text/plain": [
       "True"
      ]
     },
     "execution_count": 70,
     "metadata": {},
     "output_type": "execute_result"
    }
   ],
   "source": [
    "175 in heights"
   ]
  },
  {
   "cell_type": "code",
   "execution_count": 72,
   "metadata": {},
   "outputs": [
    {
     "name": "stdout",
     "output_type": "stream",
     "text": [
      "[1, 2000, 3]\n"
     ]
    }
   ],
   "source": [
    "a = [1,2,3]\n",
    "b = a\n",
    "a[1] = 2000\n",
    "print (b)"
   ]
  },
  {
   "cell_type": "code",
   "execution_count": 75,
   "metadata": {},
   "outputs": [
    {
     "name": "stdout",
     "output_type": "stream",
     "text": [
      "[1, 200, 3]\n",
      "[1, 2.0, 3]\n"
     ]
    }
   ],
   "source": [
    "import copy\n",
    "b = copy.deepcopy(a)\n",
    "a[1] = 200\n",
    "print(a)\n",
    "print(b)"
   ]
  },
  {
   "cell_type": "code",
   "execution_count": 76,
   "metadata": {
    "collapsed": true
   },
   "outputs": [],
   "source": [
    "def article_count(article, keyword):\n",
    "    if keyword in article:\n",
    "        return True\n",
    "    else:\n",
    "        return False"
   ]
  },
  {
   "cell_type": "markdown",
   "metadata": {},
   "source": [
    "## Dictionary processing"
   ]
  },
  {
   "cell_type": "code",
   "execution_count": 78,
   "metadata": {},
   "outputs": [
    {
     "data": {
      "text/plain": [
       "dict"
      ]
     },
     "execution_count": 78,
     "metadata": {},
     "output_type": "execute_result"
    }
   ],
   "source": [
    "dic = {'a':100,'b':'hey','c':'0.56'}\n",
    "type(dic)"
   ]
  },
  {
   "cell_type": "code",
   "execution_count": 87,
   "metadata": {},
   "outputs": [
    {
     "name": "stdout",
     "output_type": "stream",
     "text": [
      "None no exist d\n"
     ]
    }
   ],
   "source": [
    "dic['a']\n",
    "dic.keys()\n",
    "dic.values()\n",
    "print(dic.get('d'),'no exist %s' % 'd')"
   ]
  },
  {
   "cell_type": "code",
   "execution_count": 88,
   "metadata": {},
   "outputs": [
    {
     "data": {
      "text/plain": [
       "{'a': 100, 'b': 'hey', 'c': '0.56', 'd': 'new'}"
      ]
     },
     "execution_count": 88,
     "metadata": {},
     "output_type": "execute_result"
    }
   ],
   "source": [
    "dic['d'] = 'new'\n",
    "dic"
   ]
  },
  {
   "cell_type": "code",
   "execution_count": 91,
   "metadata": {},
   "outputs": [
    {
     "data": {
      "text/plain": [
       "{1: 2, 2: 2, 3: 1, 5: 2, 6: 2, 7: 1, 8: 1, 9: 1}"
      ]
     },
     "execution_count": 91,
     "metadata": {},
     "output_type": "execute_result"
    }
   ],
   "source": [
    "temp ={}\n",
    "a = [1,2,5,6,7,3,2,1,5,6,8,9]\n",
    "for check in a:\n",
    "    if check in temp:\n",
    "        temp[check] +=1\n",
    "    else:\n",
    "        temp[check] = 1\n",
    "temp"
   ]
  },
  {
   "cell_type": "markdown",
   "metadata": {},
   "source": [
    "## Set processing"
   ]
  },
  {
   "cell_type": "code",
   "execution_count": 94,
   "metadata": {},
   "outputs": [
    {
     "data": {
      "text/plain": [
       "{'0912111222', '0922333444', '0922333555', '0933562341', '0987068958'}"
      ]
     },
     "execution_count": 94,
     "metadata": {},
     "output_type": "execute_result"
    }
   ],
   "source": [
    "a = ['0912111222','0922333444','0933562341']\n",
    "b = ['0912111222','0922333555','0987068958']\n",
    "set(a)\n",
    "set(b)\n",
    "set(a) - set(b)\n",
    "set(a).union(set(b))"
   ]
  },
  {
   "cell_type": "markdown",
   "metadata": {},
   "source": [
    "## Tuples"
   ]
  },
  {
   "cell_type": "code",
   "execution_count": 98,
   "metadata": {},
   "outputs": [
    {
     "name": "stdout",
     "output_type": "stream",
     "text": [
      "<class 'tuple'>\n"
     ]
    }
   ],
   "source": [
    "a = (1,2,3)\n",
    "type(a)\n",
    "a\n",
    "print(type(a))"
   ]
  },
  {
   "cell_type": "code",
   "execution_count": 99,
   "metadata": {},
   "outputs": [
    {
     "data": {
      "text/plain": [
       "2"
      ]
     },
     "execution_count": 99,
     "metadata": {},
     "output_type": "execute_result"
    }
   ],
   "source": [
    "t = ('one',2)\n",
    "len(t)"
   ]
  },
  {
   "cell_type": "code",
   "execution_count": 100,
   "metadata": {},
   "outputs": [
    {
     "name": "stdout",
     "output_type": "stream",
     "text": [
      "1\n",
      "2\n"
     ]
    }
   ],
   "source": [
    "# Unpacking\n",
    "a,b = 1,2\n",
    "print(a)\n",
    "print(b)"
   ]
  },
  {
   "cell_type": "code",
   "execution_count": 101,
   "metadata": {},
   "outputs": [
    {
     "name": "stdout",
     "output_type": "stream",
     "text": [
      "(1, 2)\n"
     ]
    }
   ],
   "source": [
    "c = a,b\n",
    "print(c)"
   ]
  },
  {
   "cell_type": "markdown",
   "metadata": {},
   "source": [
    "## Loop and control flow"
   ]
  },
  {
   "cell_type": "code",
   "execution_count": 105,
   "metadata": {},
   "outputs": [
    {
     "name": "stdout",
     "output_type": "stream",
     "text": [
      "hello"
     ]
    }
   ],
   "source": [
    "a = 5\n",
    "if a > 3:\n",
    "    print ('hello',end='')"
   ]
  },
  {
   "cell_type": "code",
   "execution_count": 107,
   "metadata": {},
   "outputs": [
    {
     "name": "stdout",
     "output_type": "stream",
     "text": [
      "9 and 8 are not found!\n",
      "9 and 8 are not found!\n",
      "9 and 8 are not found!\n",
      "9 and 8 are not found!\n",
      "9 and 8 are not found!\n",
      "9 and 8 are not found!\n",
      "9 and 8 are not found!\n",
      "8 found!\n",
      "9 found!\n"
     ]
    }
   ],
   "source": [
    "a = 9\n",
    "b = 8\n",
    "for i in range(1,10):\n",
    "    if i == a:\n",
    "        print(str(a) + ' found!')\n",
    "        #break\n",
    "    elif i == b:\n",
    "        print(str(b) + ' found!')\n",
    "        #break\n",
    "        \n",
    "    else:\n",
    "        print(str(a) + ' and ' + str(b) + ' are not found!')\n",
    "        "
   ]
  },
  {
   "cell_type": "code",
   "execution_count": 111,
   "metadata": {},
   "outputs": [
    {
     "name": "stdout",
     "output_type": "stream",
     "text": [
      "1\n",
      "3\n",
      "5\n",
      "7\n",
      "9\n"
     ]
    }
   ],
   "source": [
    "for i in range(1,10,2):\n",
    "    print (i)"
   ]
  },
  {
   "cell_type": "code",
   "execution_count": 115,
   "metadata": {},
   "outputs": [
    {
     "name": "stdout",
     "output_type": "stream",
     "text": [
      "a\n",
      "e\n",
      "i\n",
      "o\n",
      "5\n"
     ]
    }
   ],
   "source": [
    "a = [1,2,3,4,5]\n",
    "for i in ['a','e','i','o',5]:print (i)"
   ]
  },
  {
   "cell_type": "code",
   "execution_count": 116,
   "metadata": {},
   "outputs": [
    {
     "data": {
      "text/plain": [
       "55"
      ]
     },
     "execution_count": 116,
     "metadata": {},
     "output_type": "execute_result"
    }
   ],
   "source": [
    "sum(range(1,11))"
   ]
  },
  {
   "cell_type": "markdown",
   "metadata": {},
   "source": [
    "## Function"
   ]
  },
  {
   "cell_type": "code",
   "execution_count": 117,
   "metadata": {},
   "outputs": [
    {
     "name": "stdout",
     "output_type": "stream",
     "text": [
      "hello hank\n"
     ]
    }
   ],
   "source": [
    "def say_hello(name):\n",
    "    print ('hello ' +  name)\n",
    "say_hello('hank')"
   ]
  },
  {
   "cell_type": "code",
   "execution_count": 120,
   "metadata": {},
   "outputs": [
    {
     "data": {
      "text/plain": [
       "5"
      ]
     },
     "execution_count": 120,
     "metadata": {},
     "output_type": "execute_result"
    }
   ],
   "source": [
    "def add_num(a=1,b=2):\n",
    "    return a+b\n",
    "add_num(3,4)\n",
    "add_num(3)"
   ]
  },
  {
   "cell_type": "code",
   "execution_count": 125,
   "metadata": {},
   "outputs": [
    {
     "name": "stdout",
     "output_type": "stream",
     "text": [
      "Help on built-in module math:\n",
      "\n",
      "NAME\n",
      "    math\n",
      "\n",
      "DESCRIPTION\n",
      "    This module is always available.  It provides access to the\n",
      "    mathematical functions defined by the C standard.\n",
      "\n",
      "FUNCTIONS\n",
      "    acos(...)\n",
      "        acos(x)\n",
      "        \n",
      "        Return the arc cosine (measured in radians) of x.\n",
      "    \n",
      "    acosh(...)\n",
      "        acosh(x)\n",
      "        \n",
      "        Return the inverse hyperbolic cosine of x.\n",
      "    \n",
      "    asin(...)\n",
      "        asin(x)\n",
      "        \n",
      "        Return the arc sine (measured in radians) of x.\n",
      "    \n",
      "    asinh(...)\n",
      "        asinh(x)\n",
      "        \n",
      "        Return the inverse hyperbolic sine of x.\n",
      "    \n",
      "    atan(...)\n",
      "        atan(x)\n",
      "        \n",
      "        Return the arc tangent (measured in radians) of x.\n",
      "    \n",
      "    atan2(...)\n",
      "        atan2(y, x)\n",
      "        \n",
      "        Return the arc tangent (measured in radians) of y/x.\n",
      "        Unlike atan(y/x), the signs of both x and y are considered.\n",
      "    \n",
      "    atanh(...)\n",
      "        atanh(x)\n",
      "        \n",
      "        Return the inverse hyperbolic tangent of x.\n",
      "    \n",
      "    ceil(...)\n",
      "        ceil(x)\n",
      "        \n",
      "        Return the ceiling of x as an Integral.\n",
      "        This is the smallest integer >= x.\n",
      "    \n",
      "    copysign(...)\n",
      "        copysign(x, y)\n",
      "        \n",
      "        Return a float with the magnitude (absolute value) of x but the sign \n",
      "        of y. On platforms that support signed zeros, copysign(1.0, -0.0) \n",
      "        returns -1.0.\n",
      "    \n",
      "    cos(...)\n",
      "        cos(x)\n",
      "        \n",
      "        Return the cosine of x (measured in radians).\n",
      "    \n",
      "    cosh(...)\n",
      "        cosh(x)\n",
      "        \n",
      "        Return the hyperbolic cosine of x.\n",
      "    \n",
      "    degrees(...)\n",
      "        degrees(x)\n",
      "        \n",
      "        Convert angle x from radians to degrees.\n",
      "    \n",
      "    erf(...)\n",
      "        erf(x)\n",
      "        \n",
      "        Error function at x.\n",
      "    \n",
      "    erfc(...)\n",
      "        erfc(x)\n",
      "        \n",
      "        Complementary error function at x.\n",
      "    \n",
      "    exp(...)\n",
      "        exp(x)\n",
      "        \n",
      "        Return e raised to the power of x.\n",
      "    \n",
      "    expm1(...)\n",
      "        expm1(x)\n",
      "        \n",
      "        Return exp(x)-1.\n",
      "        This function avoids the loss of precision involved in the direct evaluation of exp(x)-1 for small x.\n",
      "    \n",
      "    fabs(...)\n",
      "        fabs(x)\n",
      "        \n",
      "        Return the absolute value of the float x.\n",
      "    \n",
      "    factorial(...)\n",
      "        factorial(x) -> Integral\n",
      "        \n",
      "        Find x!. Raise a ValueError if x is negative or non-integral.\n",
      "    \n",
      "    floor(...)\n",
      "        floor(x)\n",
      "        \n",
      "        Return the floor of x as an Integral.\n",
      "        This is the largest integer <= x.\n",
      "    \n",
      "    fmod(...)\n",
      "        fmod(x, y)\n",
      "        \n",
      "        Return fmod(x, y), according to platform C.  x % y may differ.\n",
      "    \n",
      "    frexp(...)\n",
      "        frexp(x)\n",
      "        \n",
      "        Return the mantissa and exponent of x, as pair (m, e).\n",
      "        m is a float and e is an int, such that x = m * 2.**e.\n",
      "        If x is 0, m and e are both 0.  Else 0.5 <= abs(m) < 1.0.\n",
      "    \n",
      "    fsum(...)\n",
      "        fsum(iterable)\n",
      "        \n",
      "        Return an accurate floating point sum of values in the iterable.\n",
      "        Assumes IEEE-754 floating point arithmetic.\n",
      "    \n",
      "    gamma(...)\n",
      "        gamma(x)\n",
      "        \n",
      "        Gamma function at x.\n",
      "    \n",
      "    gcd(...)\n",
      "        gcd(x, y) -> int\n",
      "        greatest common divisor of x and y\n",
      "    \n",
      "    hypot(...)\n",
      "        hypot(x, y)\n",
      "        \n",
      "        Return the Euclidean distance, sqrt(x*x + y*y).\n",
      "    \n",
      "    isclose(...)\n",
      "        isclose(a, b, *, rel_tol=1e-09, abs_tol=0.0) -> bool\n",
      "        \n",
      "        Determine whether two floating point numbers are close in value.\n",
      "        \n",
      "           rel_tol\n",
      "               maximum difference for being considered \"close\", relative to the\n",
      "               magnitude of the input values\n",
      "            abs_tol\n",
      "               maximum difference for being considered \"close\", regardless of the\n",
      "               magnitude of the input values\n",
      "        \n",
      "        Return True if a is close in value to b, and False otherwise.\n",
      "        \n",
      "        For the values to be considered close, the difference between them\n",
      "        must be smaller than at least one of the tolerances.\n",
      "        \n",
      "        -inf, inf and NaN behave similarly to the IEEE 754 Standard.  That\n",
      "        is, NaN is not close to anything, even itself.  inf and -inf are\n",
      "        only close to themselves.\n",
      "    \n",
      "    isfinite(...)\n",
      "        isfinite(x) -> bool\n",
      "        \n",
      "        Return True if x is neither an infinity nor a NaN, and False otherwise.\n",
      "    \n",
      "    isinf(...)\n",
      "        isinf(x) -> bool\n",
      "        \n",
      "        Return True if x is a positive or negative infinity, and False otherwise.\n",
      "    \n",
      "    isnan(...)\n",
      "        isnan(x) -> bool\n",
      "        \n",
      "        Return True if x is a NaN (not a number), and False otherwise.\n",
      "    \n",
      "    ldexp(...)\n",
      "        ldexp(x, i)\n",
      "        \n",
      "        Return x * (2**i).\n",
      "    \n",
      "    lgamma(...)\n",
      "        lgamma(x)\n",
      "        \n",
      "        Natural logarithm of absolute value of Gamma function at x.\n",
      "    \n",
      "    log(...)\n",
      "        log(x[, base])\n",
      "        \n",
      "        Return the logarithm of x to the given base.\n",
      "        If the base not specified, returns the natural logarithm (base e) of x.\n",
      "    \n",
      "    log10(...)\n",
      "        log10(x)\n",
      "        \n",
      "        Return the base 10 logarithm of x.\n",
      "    \n",
      "    log1p(...)\n",
      "        log1p(x)\n",
      "        \n",
      "        Return the natural logarithm of 1+x (base e).\n",
      "        The result is computed in a way which is accurate for x near zero.\n",
      "    \n",
      "    log2(...)\n",
      "        log2(x)\n",
      "        \n",
      "        Return the base 2 logarithm of x.\n",
      "    \n",
      "    modf(...)\n",
      "        modf(x)\n",
      "        \n",
      "        Return the fractional and integer parts of x.  Both results carry the sign\n",
      "        of x and are floats.\n",
      "    \n",
      "    pow(...)\n",
      "        pow(x, y)\n",
      "        \n",
      "        Return x**y (x to the power of y).\n",
      "    \n",
      "    radians(...)\n",
      "        radians(x)\n",
      "        \n",
      "        Convert angle x from degrees to radians.\n",
      "    \n",
      "    sin(...)\n",
      "        sin(x)\n",
      "        \n",
      "        Return the sine of x (measured in radians).\n",
      "    \n",
      "    sinh(...)\n",
      "        sinh(x)\n",
      "        \n",
      "        Return the hyperbolic sine of x.\n",
      "    \n",
      "    sqrt(...)\n",
      "        sqrt(x)\n",
      "        \n",
      "        Return the square root of x.\n",
      "    \n",
      "    tan(...)\n",
      "        tan(x)\n",
      "        \n",
      "        Return the tangent of x (measured in radians).\n",
      "    \n",
      "    tanh(...)\n",
      "        tanh(x)\n",
      "        \n",
      "        Return the hyperbolic tangent of x.\n",
      "    \n",
      "    trunc(...)\n",
      "        trunc(x:Real) -> Integral\n",
      "        \n",
      "        Truncates x to the nearest Integral toward 0. Uses the __trunc__ magic method.\n",
      "\n",
      "DATA\n",
      "    e = 2.718281828459045\n",
      "    inf = inf\n",
      "    nan = nan\n",
      "    pi = 3.141592653589793\n",
      "    tau = 6.283185307179586\n",
      "\n",
      "FILE\n",
      "    (built-in)\n",
      "\n",
      "\n"
     ]
    }
   ],
   "source": [
    "import math\n",
    "help(math)\n",
    "?help(math)"
   ]
  },
  {
   "cell_type": "code",
   "execution_count": 126,
   "metadata": {},
   "outputs": [
    {
     "data": {
      "text/plain": [
       "4"
      ]
     },
     "execution_count": 126,
     "metadata": {},
     "output_type": "execute_result"
    }
   ],
   "source": [
    "a = math.ceil(3.6)\n",
    "a"
   ]
  },
  {
   "cell_type": "code",
   "execution_count": 127,
   "metadata": {},
   "outputs": [
    {
     "name": "stdout",
     "output_type": "stream",
     "text": [
      "alabaster==0.7.10\n",
      "anaconda-client==1.6.3\n",
      "anaconda-navigator==1.6.2\n",
      "anaconda-project==0.6.0\n",
      "asn1crypto==0.22.0\n",
      "astroid==1.4.9\n",
      "astropy==1.3.2\n",
      "Babel==2.4.0\n",
      "backports.shutil-get-terminal-size==1.0.0\n",
      "beautifulsoup4==4.6.0\n",
      "bitarray==0.8.1\n",
      "blaze==0.10.1\n",
      "bleach==1.5.0\n",
      "bokeh==0.12.5\n",
      "boto==2.46.1\n",
      "Bottleneck==1.2.1\n",
      "cffi==1.10.0\n",
      "chardet==3.0.3\n",
      "click==6.7\n",
      "cloudpickle==0.2.2\n",
      "clyent==1.2.2\n",
      "colorama==0.3.9\n",
      "comtypes==1.1.2\n",
      "conda==4.3.21\n",
      "contextlib2==0.5.5\n",
      "cryptography==1.8.1\n",
      "cycler==0.10.0\n",
      "Cython==0.25.2\n",
      "cytoolz==0.8.2\n",
      "dask==0.14.3\n",
      "datashape==0.5.4\n",
      "decorator==4.0.11\n",
      "distributed==1.16.3\n",
      "docutils==0.13.1\n",
      "entrypoints==0.2.2\n",
      "et-xmlfile==1.0.1\n",
      "fastcache==1.0.2\n",
      "Flask==0.12.2\n",
      "Flask-Cors==3.0.2\n",
      "gevent==1.2.1\n",
      "greenlet==0.4.12\n",
      "h5py==2.7.0\n",
      "HeapDict==1.0.0\n",
      "html5lib==0.999\n",
      "idna==2.5\n",
      "imagesize==0.7.1\n",
      "ipykernel==4.6.1\n",
      "ipython==5.3.0\n",
      "ipython-genutils==0.2.0\n",
      "ipywidgets==6.0.0\n",
      "isort==4.2.5\n",
      "itsdangerous==0.24\n",
      "jdcal==1.3\n",
      "jedi==0.10.2\n",
      "Jinja2==2.9.6\n",
      "jsonschema==2.6.0\n",
      "jupyter==1.0.0\n",
      "jupyter-client==5.0.1\n",
      "jupyter-console==5.1.0\n",
      "jupyter-core==4.3.0\n",
      "lazy-object-proxy==1.2.2\n",
      "llvmlite==0.18.0\n",
      "locket==0.2.0\n",
      "lxml==3.7.3\n",
      "MarkupSafe==0.23\n",
      "matplotlib==2.0.2\n",
      "menuinst==1.4.7\n",
      "mistune==0.7.4\n",
      "mpmath==0.19\n",
      "msgpack-python==0.4.8\n",
      "multipledispatch==0.4.9\n",
      "navigator-updater==0.1.0\n",
      "nbconvert==5.1.1\n",
      "nbformat==4.3.0\n",
      "networkx==1.11\n",
      "nltk==3.2.3\n",
      "nose==1.3.7\n",
      "notebook==5.0.0\n",
      "numba==0.33.0\n",
      "numexpr==2.6.2\n",
      "numpy==1.12.1\n",
      "numpydoc==0.6.0\n",
      "odo==0.5.0\n",
      "olefile==0.44\n",
      "openpyxl==2.4.7\n",
      "packaging==16.8\n",
      "pandas==0.20.1\n",
      "pandocfilters==1.4.1\n",
      "partd==0.3.8\n",
      "path.py==10.3.1\n",
      "pathlib2==2.2.1\n",
      "patsy==0.4.1\n",
      "pep8==1.7.0\n",
      "pickleshare==0.7.4\n",
      "Pillow==4.1.1\n",
      "ply==3.10\n",
      "prompt-toolkit==1.0.14\n",
      "psutil==5.2.2\n",
      "py==1.4.33\n",
      "pycosat==0.6.2\n",
      "pycparser==2.17\n",
      "pycrypto==2.6.1\n",
      "pycurl==7.43.0\n",
      "pyflakes==1.5.0\n",
      "Pygments==2.2.0\n",
      "pylint==1.6.4\n",
      "pyodbc==4.0.16\n",
      "pyOpenSSL==17.0.0\n",
      "pyparsing==2.1.4\n",
      "pytest==3.0.7\n",
      "python-dateutil==2.6.0\n",
      "pytz==2017.2\n",
      "PyWavelets==0.5.2\n",
      "pywin32==220\n",
      "PyYAML==3.12\n",
      "pyzmq==16.0.2\n",
      "QtAwesome==0.4.4\n",
      "qtconsole==4.3.0\n",
      "QtPy==1.2.1\n",
      "requests==2.14.2\n",
      "rope-py3k==0.9.4.post1\n",
      "scikit-image==0.13.0\n",
      "scikit-learn==0.18.1\n",
      "scipy==0.19.0\n",
      "seaborn==0.7.1\n",
      "simplegeneric==0.8.1\n",
      "singledispatch==3.4.0.3\n",
      "six==1.10.0\n",
      "snowballstemmer==1.2.1\n",
      "sortedcollections==0.5.3\n",
      "sortedcontainers==1.5.7\n",
      "sphinx==1.5.6\n",
      "spyder==3.1.4\n",
      "SQLAlchemy==1.1.9\n",
      "statsmodels==0.8.0\n",
      "sympy==1.0\n",
      "tables==3.2.2\n",
      "tblib==1.3.2\n",
      "testpath==0.3\n",
      "toolz==0.8.2\n",
      "tornado==4.5.1\n",
      "traitlets==4.3.2\n",
      "unicodecsv==0.14.1\n",
      "wcwidth==0.1.7\n",
      "Werkzeug==0.12.2\n",
      "widgetsnbextension==2.0.0\n",
      "win-unicode-console==0.5\n",
      "wrapt==1.10.10\n",
      "xlrd==1.0.0\n",
      "XlsxWriter==0.9.6\n",
      "xlwings==0.10.4\n",
      "xlwt==1.2.0\n",
      "zict==0.1.2\n"
     ]
    }
   ],
   "source": [
    "! pip freeze"
   ]
  },
  {
   "cell_type": "markdown",
   "metadata": {},
   "source": [
    "## Errors and exception"
   ]
  },
  {
   "cell_type": "code",
   "execution_count": 132,
   "metadata": {},
   "outputs": [
    {
     "name": "stdout",
     "output_type": "stream",
     "text": [
      "Dividend: 6\n",
      "Divisor :0\n",
      "6 0\n"
     ]
    }
   ],
   "source": [
    "dividend = input(\"Dividend: \")\n",
    "divisor = input(\"Divisor :\")\n",
    "print (dividend, divisor)"
   ]
  },
  {
   "cell_type": "code",
   "execution_count": 140,
   "metadata": {},
   "outputs": [
    {
     "name": "stdout",
     "output_type": "stream",
     "text": [
      "Error division by zero\n"
     ]
    }
   ],
   "source": [
    "try:\n",
    "    int(dividend) / int(divisor)\n",
    "except ZeroDivisionError as detail:\n",
    "    print('Error {}'.format(detail))"
   ]
  },
  {
   "cell_type": "code",
   "execution_count": 142,
   "metadata": {},
   "outputs": [
    {
     "name": "stdout",
     "output_type": "stream",
     "text": [
      "Error division by zero\n",
      "final\n"
     ]
    }
   ],
   "source": [
    "try:\n",
    "    int(dividend) / int(divisor)\n",
    "except ZeroDivisionError as detail:\n",
    "    print('Error {}'.format(detail))\n",
    "except ValueError as detail:\n",
    "    print('Value Error {}'.format(detail))\n",
    "finally:\n",
    "    print(\"final\")"
   ]
  },
  {
   "cell_type": "markdown",
   "metadata": {},
   "source": [
    "## File operations"
   ]
  },
  {
   "cell_type": "code",
   "execution_count": 146,
   "metadata": {
    "collapsed": true
   },
   "outputs": [],
   "source": [
    "fid = open('test.txt','w')\n",
    "fid.write('Hello\\nworld')\n",
    "fid.close()"
   ]
  },
  {
   "cell_type": "code",
   "execution_count": 147,
   "metadata": {
    "collapsed": true
   },
   "outputs": [],
   "source": [
    "with open('test.txt','w') as f:\n",
    "    f.write('Hello\\nWorld')"
   ]
  },
  {
   "cell_type": "code",
   "execution_count": 148,
   "metadata": {},
   "outputs": [
    {
     "name": "stdout",
     "output_type": "stream",
     "text": [
      "Hello\n",
      "\n",
      "World\n"
     ]
    }
   ],
   "source": [
    "with open('test.txt','r') as fid:\n",
    "    for line in fid:\n",
    "        print (line)"
   ]
  },
  {
   "cell_type": "code",
   "execution_count": 149,
   "metadata": {},
   "outputs": [
    {
     "name": "stdout",
     "output_type": "stream",
     "text": [
      "      \n",
      "\n",
      "\thehehehehe\n",
      "\n",
      "world    \n"
     ]
    }
   ],
   "source": [
    "a = '      \\n\\n\\thehehehehe\\n\\nworld    '\n",
    "print(a)"
   ]
  },
  {
   "cell_type": "code",
   "execution_count": 150,
   "metadata": {},
   "outputs": [
    {
     "name": "stdout",
     "output_type": "stream",
     "text": [
      "hehehehehe\n",
      "\n",
      "world\n"
     ]
    }
   ],
   "source": [
    "print(a.strip())"
   ]
  },
  {
   "cell_type": "code",
   "execution_count": 153,
   "metadata": {},
   "outputs": [
    {
     "name": "stdout",
     "output_type": "stream",
     "text": [
      "2\n",
      "2\n",
      "['Hello\\n', 'World']\n"
     ]
    }
   ],
   "source": [
    "cnt = 0\n",
    "ary = []\n",
    "with open('test.txt','r') as fid:\n",
    "    for line in fid:\n",
    "        cnt+=1\n",
    "        ary.append(line)\n",
    "print (cnt)\n",
    "print(len(ary))\n",
    "print(ary)"
   ]
  },
  {
   "cell_type": "markdown",
   "metadata": {},
   "source": [
    "## Demo"
   ]
  },
  {
   "cell_type": "code",
   "execution_count": 160,
   "metadata": {},
   "outputs": [
    {
     "data": {
      "text/plain": [
       "{'\"at': 1,\n",
       " '\"fire': 1,\n",
       " '\"hopefully': 1,\n",
       " '\"nobody': 1,\n",
       " '\"the': 1,\n",
       " '\"will': 1,\n",
       " '\"xi': 1,\n",
       " '17-day': 1,\n",
       " 'a': 9,\n",
       " 'about': 1,\n",
       " 'achieving': 1,\n",
       " 'actions': 1,\n",
       " 'adhere': 1,\n",
       " 'administrations': 1,\n",
       " 'adoption': 1,\n",
       " 'affirmed': 1,\n",
       " 'after': 1,\n",
       " 'ago,': 1,\n",
       " 'agreed': 1,\n",
       " 'all': 1,\n",
       " 'ally.': 1,\n",
       " 'an': 2,\n",
       " 'and': 11,\n",
       " 'are': 2,\n",
       " 'as': 2,\n",
       " 'attacks': 1,\n",
       " 'avoid': 4,\n",
       " 'ballistic': 1,\n",
       " 'been': 2,\n",
       " 'before': 2,\n",
       " 'behavior.': 1,\n",
       " 'bellicose': 1,\n",
       " 'better': 1,\n",
       " 'between': 1,\n",
       " 'beyond': 2,\n",
       " 'both': 2,\n",
       " 'but': 1,\n",
       " 'by': 1,\n",
       " 'call': 3,\n",
       " 'called': 1,\n",
       " 'can': 1,\n",
       " 'china': 1,\n",
       " \"china's\": 1,\n",
       " 'chinese': 1,\n",
       " 'comes': 1,\n",
       " 'commenting': 1,\n",
       " 'common': 1,\n",
       " 'confirmed': 1,\n",
       " 'council': 1,\n",
       " 'credibility.': 1,\n",
       " 'dealing': 1,\n",
       " 'denuclearization': 1,\n",
       " 'dialogue': 1,\n",
       " 'diplomacy': 2,\n",
       " 'direction': 1,\n",
       " 'dominated': 1,\n",
       " 'donald': 1,\n",
       " 'during': 1,\n",
       " 'easier': 1,\n",
       " 'escalate': 1,\n",
       " 'escalating': 2,\n",
       " 'exercise': 1,\n",
       " 'experts': 1,\n",
       " 'fast\"': 1,\n",
       " 'fiery': 2,\n",
       " 'for': 3,\n",
       " 'foreign': 2,\n",
       " 'friday,': 1,\n",
       " 'from': 1,\n",
       " 'fury': 1,\n",
       " 'general': 1,\n",
       " 'giving': 1,\n",
       " 'going': 1,\n",
       " 'good': 1,\n",
       " 'guam': 2,\n",
       " 'has': 5,\n",
       " 'have': 3,\n",
       " 'he': 4,\n",
       " 'his': 2,\n",
       " 'house': 2,\n",
       " 'i': 1,\n",
       " 'if': 1,\n",
       " 'important': 1,\n",
       " 'in': 6,\n",
       " 'in.': 1,\n",
       " 'interest': 1,\n",
       " 'issue': 1,\n",
       " 'issues': 1,\n",
       " 'it': 5,\n",
       " 'jersey.': 1,\n",
       " 'jinping': 1,\n",
       " 'jong': 1,\n",
       " 'kim': 1,\n",
       " 'korea': 7,\n",
       " \"korea's\": 1,\n",
       " 'korea,': 1,\n",
       " 'korea.': 1,\n",
       " 'korean': 5,\n",
       " 'leader': 1,\n",
       " 'leaders': 2,\n",
       " 'like': 1,\n",
       " 'lot': 1,\n",
       " 'loves': 1,\n",
       " 'maintaining': 1,\n",
       " 'many': 1,\n",
       " 'ministry': 1,\n",
       " 'missiles.': 1,\n",
       " 'must': 2,\n",
       " 'nation': 1,\n",
       " 'national': 1,\n",
       " 'nations': 1,\n",
       " 'necessary': 1,\n",
       " 'never': 1,\n",
       " 'new': 2,\n",
       " 'north': 11,\n",
       " 'noting': 1,\n",
       " 'nuclear': 1,\n",
       " 'of': 5,\n",
       " 'on': 9,\n",
       " 'options': 1,\n",
       " 'or': 2,\n",
       " 'order': 1,\n",
       " 'out,\"': 1,\n",
       " 'over': 1,\n",
       " 'overt': 1,\n",
       " 'parties': 1,\n",
       " 'past': 1,\n",
       " 'peace': 2,\n",
       " 'peaceful': 1,\n",
       " 'peninsula': 1,\n",
       " 'peninsula,\"': 2,\n",
       " 'peninsula.': 1,\n",
       " 'peninsula.\"': 1,\n",
       " 'phone': 2,\n",
       " 'policy': 1,\n",
       " 'political': 1,\n",
       " 'position': 1,\n",
       " 'present,': 1,\n",
       " 'president': 4,\n",
       " 'provocative': 1,\n",
       " 'pursues': 2,\n",
       " 'pyongyang': 1,\n",
       " 'pyongyang.': 1,\n",
       " 'questions': 1,\n",
       " 'quietly': 2,\n",
       " 'raised': 1,\n",
       " 'recent': 1,\n",
       " 'regarding': 1,\n",
       " 'regret': 2,\n",
       " 'relevant': 1,\n",
       " 'resolution': 1,\n",
       " 'resolve': 1,\n",
       " 'response': 1,\n",
       " 'restraint': 2,\n",
       " 'rhetoric': 1,\n",
       " 'rogue': 1,\n",
       " 'saber-rattling': 1,\n",
       " 'said': 6,\n",
       " 'said.': 1,\n",
       " 'saturday': 1,\n",
       " 'saying': 2,\n",
       " 'security': 2,\n",
       " 'seen.\"': 1,\n",
       " 'settlement': 1,\n",
       " 'share': 1,\n",
       " 'should': 1,\n",
       " 'sides': 1,\n",
       " 'solution': 1,\n",
       " 'solve': 1,\n",
       " 'stability': 2,\n",
       " 'statement': 1,\n",
       " 'statement.': 2,\n",
       " 'step': 1,\n",
       " 'stood': 1,\n",
       " 'stop': 1,\n",
       " 'stressed': 1,\n",
       " 'strike': 1,\n",
       " 'table': 1,\n",
       " 'talked': 1,\n",
       " 'tell': 1,\n",
       " 'tensions': 2,\n",
       " 'tensions,': 1,\n",
       " 'tensions.': 1,\n",
       " 'territory': 1,\n",
       " 'than': 1,\n",
       " 'that': 6,\n",
       " 'the': 25,\n",
       " 'them': 1,\n",
       " 'there': 1,\n",
       " 'they': 2,\n",
       " 'this': 3,\n",
       " 'threat': 1,\n",
       " 'threatened': 1,\n",
       " 'threatening': 1,\n",
       " 'threats': 3,\n",
       " 'to': 8,\n",
       " 'toward': 1,\n",
       " 'tried': 1,\n",
       " 'truly': 1,\n",
       " 'trump': 5,\n",
       " \"trump's\": 2,\n",
       " 'trump,': 1,\n",
       " 'ultimately': 1,\n",
       " 'un': 1,\n",
       " 'united': 1,\n",
       " 'unleash': 1,\n",
       " 'urged': 1,\n",
       " 'us': 5,\n",
       " 'vacation': 1,\n",
       " 'was': 1,\n",
       " 'washington': 1,\n",
       " 'we': 1,\n",
       " 'week': 1,\n",
       " 'week,': 1,\n",
       " 'well': 1,\n",
       " 'were': 1,\n",
       " 'white': 2,\n",
       " 'will': 4,\n",
       " 'with': 7,\n",
       " 'words': 1,\n",
       " 'words,': 2,\n",
       " 'work': 1,\n",
       " 'working': 1,\n",
       " 'world': 1,\n",
       " 'would': 2,\n",
       " 'xi': 2,\n",
       " 'xi.': 2,\n",
       " 'years': 1,\n",
       " 'years.': 1,\n",
       " 'you.': 1}"
      ]
     },
     "execution_count": 160,
     "metadata": {},
     "output_type": "execute_result"
    }
   ],
   "source": [
    "with open('data/cnn.txt','r') as f:\n",
    "    article = f.read()\n",
    "dic = {}    \n",
    "for w in article.split():\n",
    "        word = w.lower()\n",
    "        if word not in dic:\n",
    "            dic[word] =1\n",
    "        else:\n",
    "            dic[word]+=1\n",
    "dic"
   ]
  },
  {
   "cell_type": "code",
   "execution_count": 161,
   "metadata": {},
   "outputs": [
    {
     "data": {
      "text/plain": [
       "[('the', 25),\n",
       " ('north', 11),\n",
       " ('and', 11),\n",
       " ('a', 9),\n",
       " ('on', 9),\n",
       " ('to', 8),\n",
       " ('with', 7),\n",
       " ('korea', 7),\n",
       " ('said', 6),\n",
       " ('in', 6),\n",
       " ('that', 6),\n",
       " ('trump', 5),\n",
       " ('of', 5),\n",
       " ('has', 5),\n",
       " ('it', 5),\n",
       " ('us', 5),\n",
       " ('korean', 5),\n",
       " ('president', 4),\n",
       " ('he', 4),\n",
       " ('will', 4),\n",
       " ('avoid', 4),\n",
       " ('for', 3),\n",
       " ('call', 3),\n",
       " ('threats', 3),\n",
       " ('this', 3),\n",
       " ('have', 3),\n",
       " ('xi', 2),\n",
       " ('restraint', 2),\n",
       " ('phone', 2),\n",
       " ('escalating', 2),\n",
       " ('tensions', 2),\n",
       " ('his', 2),\n",
       " ('saying', 2),\n",
       " ('guam', 2),\n",
       " ('regret', 2),\n",
       " ('an', 2),\n",
       " ('or', 2),\n",
       " ('both', 2),\n",
       " ('foreign', 2),\n",
       " ('statement.', 2),\n",
       " ('as', 2),\n",
       " ('peace', 2),\n",
       " ('stability', 2),\n",
       " ('peninsula,\"', 2),\n",
       " ('would', 2),\n",
       " ('must', 2),\n",
       " ('white', 2),\n",
       " ('house', 2),\n",
       " ('xi.', 2),\n",
       " ('leaders', 2),\n",
       " ('new', 2),\n",
       " ('security', 2),\n",
       " (\"trump's\", 2),\n",
       " ('are', 2),\n",
       " ('before', 2),\n",
       " ('been', 2),\n",
       " ('they', 2),\n",
       " ('beyond', 2),\n",
       " ('fiery', 2),\n",
       " ('words,', 2),\n",
       " ('quietly', 2),\n",
       " ('pursues', 2),\n",
       " ('diplomacy', 2),\n",
       " ('chinese', 1),\n",
       " ('jinping', 1),\n",
       " ('called', 1),\n",
       " ('during', 1),\n",
       " ('saturday', 1),\n",
       " ('donald', 1),\n",
       " ('over', 1),\n",
       " ('korea.', 1),\n",
       " ('comes', 1),\n",
       " ('after', 1),\n",
       " ('week', 1),\n",
       " ('between', 1),\n",
       " ('washington', 1),\n",
       " ('pyongyang.', 1),\n",
       " ('threatened', 1),\n",
       " ('week,', 1),\n",
       " ('unleash', 1),\n",
       " ('\"fire', 1),\n",
       " ('fury', 1),\n",
       " ('like', 1),\n",
       " ('world', 1),\n",
       " ('never', 1),\n",
       " ('seen.\"', 1),\n",
       " ('pyongyang', 1),\n",
       " ('strike', 1),\n",
       " ('territory', 1),\n",
       " ('ballistic', 1),\n",
       " ('missiles.', 1),\n",
       " ('stood', 1),\n",
       " ('by', 1),\n",
       " ('bellicose', 1),\n",
       " ('rhetoric', 1),\n",
       " ('friday,', 1),\n",
       " ('leader', 1),\n",
       " ('kim', 1),\n",
       " ('jong', 1),\n",
       " ('un', 1),\n",
       " ('\"will', 1),\n",
       " ('truly', 1),\n",
       " ('fast\"', 1),\n",
       " ('if', 1),\n",
       " ('issues', 1),\n",
       " ('overt', 1),\n",
       " ('threat', 1),\n",
       " ('attacks', 1),\n",
       " ('ally.', 1),\n",
       " ('urged', 1),\n",
       " ('sides', 1),\n",
       " ('tensions,', 1),\n",
       " (\"china's\", 1),\n",
       " ('ministry', 1),\n",
       " ('\"xi', 1),\n",
       " ('stressed', 1),\n",
       " ('china', 1),\n",
       " ('share', 1),\n",
       " ('common', 1),\n",
       " ('interest', 1),\n",
       " ('denuclearization', 1),\n",
       " ('peninsula', 1),\n",
       " ('well', 1),\n",
       " ('maintaining', 1),\n",
       " ('statement', 1),\n",
       " ('said.', 1),\n",
       " ('\"at', 1),\n",
       " ('present,', 1),\n",
       " ('relevant', 1),\n",
       " ('parties', 1),\n",
       " ('should', 1),\n",
       " ('exercise', 1),\n",
       " ('words', 1),\n",
       " ('actions', 1),\n",
       " ('escalate', 1),\n",
       " ('peninsula.', 1),\n",
       " ('we', 1),\n",
       " ('ultimately', 1),\n",
       " ('adhere', 1),\n",
       " ('general', 1),\n",
       " ('direction', 1),\n",
       " ('dialogue', 1),\n",
       " ('political', 1),\n",
       " ('settlement', 1),\n",
       " ('resolve', 1),\n",
       " ('nuclear', 1),\n",
       " ('issue', 1),\n",
       " ('peninsula.\"', 1),\n",
       " ('confirmed', 1),\n",
       " ('talked', 1),\n",
       " ('agreed', 1),\n",
       " ('stop', 1),\n",
       " ('provocative', 1),\n",
       " ('behavior.', 1),\n",
       " ('\"the', 1),\n",
       " ('affirmed', 1),\n",
       " ('recent', 1),\n",
       " ('adoption', 1),\n",
       " ('united', 1),\n",
       " ('nations', 1),\n",
       " ('council', 1),\n",
       " ('resolution', 1),\n",
       " ('regarding', 1),\n",
       " ('was', 1),\n",
       " ('important', 1),\n",
       " ('necessary', 1),\n",
       " ('step', 1),\n",
       " ('toward', 1),\n",
       " ('achieving', 1),\n",
       " ('saber-rattling', 1),\n",
       " ('from', 1),\n",
       " ('rogue', 1),\n",
       " ('nation', 1),\n",
       " ('dominated', 1),\n",
       " ('17-day', 1),\n",
       " ('working', 1),\n",
       " ('vacation', 1),\n",
       " ('jersey.', 1),\n",
       " ('there', 1),\n",
       " ('good', 1),\n",
       " ('options', 1),\n",
       " ('table', 1),\n",
       " ('dealing', 1),\n",
       " ('tensions.', 1),\n",
       " ('\"hopefully', 1),\n",
       " ('all', 1),\n",
       " ('work', 1),\n",
       " ('out,\"', 1),\n",
       " ('\"nobody', 1),\n",
       " ('loves', 1),\n",
       " ('peaceful', 1),\n",
       " ('solution', 1),\n",
       " ('better', 1),\n",
       " ('than', 1),\n",
       " ('trump,', 1),\n",
       " ('i', 1),\n",
       " ('can', 1),\n",
       " ('tell', 1),\n",
       " ('you.', 1),\n",
       " ('but', 1),\n",
       " ('going', 1),\n",
       " ('many', 1),\n",
       " ('years.', 1),\n",
       " ('lot', 1),\n",
       " ('easier', 1),\n",
       " ('solve', 1),\n",
       " ('years', 1),\n",
       " ('ago,', 1),\n",
       " ('were', 1),\n",
       " ('position', 1),\n",
       " ('in.', 1),\n",
       " ('policy', 1),\n",
       " ('national', 1),\n",
       " ('experts', 1),\n",
       " ('raised', 1),\n",
       " ('questions', 1),\n",
       " ('about', 1),\n",
       " ('threatening', 1),\n",
       " ('response', 1),\n",
       " ('korea,', 1),\n",
       " ('noting', 1),\n",
       " ('past', 1),\n",
       " ('administrations', 1),\n",
       " ('tried', 1),\n",
       " ('commenting', 1),\n",
       " (\"korea's\", 1),\n",
       " ('order', 1),\n",
       " ('giving', 1),\n",
       " ('them', 1),\n",
       " ('credibility.', 1)]"
      ]
     },
     "execution_count": 161,
     "metadata": {},
     "output_type": "execute_result"
    }
   ],
   "source": [
    "import operator\n",
    "swd = sorted(dic.items(), key=operator.itemgetter(1),reverse=True)\n",
    "swd"
   ]
  },
  {
   "cell_type": "code",
   "execution_count": null,
   "metadata": {
    "collapsed": true
   },
   "outputs": [],
   "source": []
  }
 ],
 "metadata": {
  "kernelspec": {
   "display_name": "Python 3",
   "language": "python",
   "name": "python3"
  },
  "language_info": {
   "codemirror_mode": {
    "name": "ipython",
    "version": 3
   },
   "file_extension": ".py",
   "mimetype": "text/x-python",
   "name": "python",
   "nbconvert_exporter": "python",
   "pygments_lexer": "ipython3",
   "version": "3.6.1"
  }
 },
 "nbformat": 4,
 "nbformat_minor": 2
}
